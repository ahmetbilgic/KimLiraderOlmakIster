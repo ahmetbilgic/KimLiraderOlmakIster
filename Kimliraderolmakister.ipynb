{
 "cells": [
  {
   "cell_type": "markdown",
   "metadata": {},
   "source": [
    "# Kim Lirader Olmak İster?"
   ]
  },
  {
   "cell_type": "code",
   "execution_count": null,
   "metadata": {},
   "outputs": [],
   "source": [
    "import random\n",
    "import time\n",
    "close=False\n",
    "\n",
    "questions=[\"Kana rengini veren madde nedir ?\",\"2*7 Kaç eder\",\"Atatürk'ün doğum yılı hangisidir ?\",\"En iyi Makina öğrenmesi Öğretmeni Kimdir ?\"]\n",
    "correctAnswers=[\"Hemoglobin\",\"14\",\"1881\",\"Mustafa Vahit Keskin\"]\n",
    "answerTheQuestions=[[\"Fişne Suyu\",\"Hemoglobin\",\"C.Ronaldo\",\"Zeki Müren\"],[\"5\",\"18\",\"20\",\"14\",],[\"1938\",\"1883\",\"1881\",\"1891\"],[\"Mustafa Vahit Keskin\",\"Bla\",\"Bla-Bla\",\"Bla-Bla-Bla\"]]\n",
    "askedQ=[]\n",
    "bank=0\n",
    "while close == False:\n",
    "    userchoice=input(\"Yarışmaya geçmek için 1\\nSoru Eklemek için 2\\nProgramdan çıkmak için 3\\n:\")\n",
    "    if userchoice == \"1\":\n",
    "        a=1\n",
    "        while len(askedQ) != len(questions):    \n",
    "            x=random.randint(0,len(questions)-1)\n",
    "            question=questions[x]    \n",
    "            if question in askedQ:\n",
    "                a=1\n",
    "            else:\n",
    "                print(question)\n",
    "                print(answerTheQuestions[x]) \n",
    "                answer = input(\"Cevabınız :\")\n",
    "                askedQ.append(question)        \n",
    "                if answer == correctAnswers[x] or answer.lower() == correctAnswers[x].lower():\n",
    "                    print(\"Doğru Bilerek 100TL  kazandınız!!!\\n\")\n",
    "                    bank+=100\n",
    "                else:\n",
    "                    print(\"Yanlış cevap\")\n",
    "                    print(\"Doğru cevap :{} olacaktı\\n\".format(correctAnswers[x]))           \n",
    "\n",
    "\n",
    "        print(\"Yarışma bitti ve {}TL kazandınız\".format(bank))\n",
    "\n",
    "    elif userchoice ==\"2\":\n",
    "        \n",
    "        questions.append(input(\"Eklemek istediğiniz soruyu giriniz :\"))\n",
    "        userAnswersList=[]\n",
    "        i=0\n",
    "        while i < 4:\n",
    "            userAnswersList.append(input(\"{}. şıkkı giriniz:\".format(i+1)))\n",
    "            i+=1\n",
    "\n",
    "        answerTheQuestions.append(list(userAnswersList))\n",
    "        confirmed = False \n",
    "        while confirmed == False:\n",
    "            userCorrectAnswer =input(\"Doğru şıkkı giriniz:\")\n",
    "            if userCorrectAnswer in userAnswersList:\n",
    "                correctAnswers.append(userCorrectAnswer)\n",
    "                confirmed = True\n",
    "            else:\n",
    "                print(\"Şıklarda verilmeyen bir değer girildi lütfen tekrar giriniz\")\n",
    "            \n",
    "    elif userchoice ==\"3\":\n",
    "        print(\"Programdan çıkılıyor.\",end=\"\")\n",
    "        time.sleep(1)\n",
    "        print(\"\",end=\".\")\n",
    "        time.sleep(1)\n",
    "        print(\"\",end=\".\")\n",
    "        time.sleep(1)\n",
    "        print(\"\",end=\".\")\n",
    "        time.sleep(1)\n",
    "        close=True\n",
    "             \n",
    "    else:\n",
    "        print(\"Hatalı deneme\")\n"
   ]
  },
  {
   "cell_type": "markdown",
   "metadata": {},
   "source": [
    "\n"
   ]
  }
 ],
 "metadata": {
  "kernelspec": {
   "display_name": "Python 3",
   "language": "python",
   "name": "python3"
  },
  "language_info": {
   "codemirror_mode": {
    "name": "ipython",
    "version": 3
   },
   "file_extension": ".py",
   "mimetype": "text/x-python",
   "name": "python",
   "nbconvert_exporter": "python",
   "pygments_lexer": "ipython3",
   "version": "3.7.6"
  }
 },
 "nbformat": 4,
 "nbformat_minor": 4
}
